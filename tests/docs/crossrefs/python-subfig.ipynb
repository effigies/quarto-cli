{
  "cells": [
    {
      "cell_type": "raw",
      "metadata": {},
      "source": [
        "---\n",
        "title: Python Subfig Test\n",
        "---"
      ],
      "id": "162837fa"
    },
    {
      "cell_type": "markdown",
      "metadata": {},
      "source": [
        "## Python Crossref Figure\n"
      ],
      "id": "688c7445"
    },
    {
      "cell_type": "code",
      "metadata": {},
      "source": [
        "#| label: fig-plots\n",
        "#| fig-cap: Plots\n",
        "#| fig-subcap:\n",
        "#|   - Plot 1\n",
        "#|   - Plot 2\n",
        "#| layout-ncol: 2\n",
        "\n",
        "import matplotlib.pyplot as plt\n",
        "plt.plot([1,23,2,4])\n",
        "plt.show()\n",
        "\n",
        "plt.plot([8,65,23,90])\n",
        "plt.show()"
      ],
      "id": "fig-plots",
      "execution_count": null,
      "outputs": []
    },
    {
      "cell_type": "markdown",
      "metadata": {},
      "source": [
        "See @fig-plots for examples. In particular, @fig-plots-2."
      ],
      "id": "2505040d"
    }
  ],
  "metadata": {
    "kernelspec": {
      "name": "python3",
      "language": "python",
      "display_name": "Python 3"
    }
  },
  "nbformat": 4,
  "nbformat_minor": 5
}